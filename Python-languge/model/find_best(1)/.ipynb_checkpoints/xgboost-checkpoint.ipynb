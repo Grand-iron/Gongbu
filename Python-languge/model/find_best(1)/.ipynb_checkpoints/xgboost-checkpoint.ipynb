{
 "cells": [
  {
   "cell_type": "code",
   "execution_count": 2,
   "metadata": {},
   "outputs": [],
   "source": [
    "import pandas as pd\n",
    "import numpy as np\n",
    "import seaborn as sns\n",
    "from sklearn.model_selection import train_test_split, StratifiedKFold, cross_val_score\n",
    "from sklearn.impute import SimpleImputer, KNNImputer\n",
    "from xgboost import XGBClassifier\n",
    "from sklearn import metrics\n",
    "import xgboost as xgb\n",
    "from sklearn.preprocessing import LabelEncoder,OrdinalEncoder, KBinsDiscretizer"
   ]
  },
  {
   "cell_type": "code",
   "execution_count": 9,
   "metadata": {},
   "outputs": [],
   "source": [
    "train_df = pd.read_csv(\"/home/ubuntu/try/file/preprocessed_train.csv\")\n",
    "test_df = pd.read_csv(\"/home/ubuntu/try/file/preprocessed_test.csv\")\n",
    "\n",
    "# 열 리스트(범주, 순서, 수치)\n",
    "categorical_cols = ['Occupation','TypeofContact', 'Gender', 'Marital_Status']\n",
    "ordinal_cols = ['ProductPitched', 'Designation']\n",
    "numerical_cols = ['Age', 'CityTier', 'DurationOfPitch', 'NumberOfPersonVisiting', 'NumberOfFollowups', 'PreferredPropertyStar', 'NumberOfTrips', 'Passport', 'PitchSatisfactionScore', 'MonthlyIncome', 'Car_Ownership', 'Has_Children']\n",
    "\n",
    "#순서형 변수 'Product Pitched' 와 'Designation'의 변수 순서\n",
    "orders = [['basic','standard','deluxe','super deluxe','king'],\n",
    "          ['vp','avp','executive','manager','senior manager']]\n",
    "\n",
    "# 순서형 열과 범주형 열에 대해 Label Encoding, Ordinal Encoding 적용\n",
    "for id, col in enumerate(ordinal_cols):\n",
    "    oe = OrdinalEncoder(categories=[orders[id]])\n",
    "    train_df[col] = oe.fit_transform(train_df[[col]].astype(str))\n",
    "\n",
    "for id, col in enumerate(categorical_cols):\n",
    "    le = LabelEncoder()\n",
    "    train_df[col] = le.fit_transform(train_df[col].astype(str))\n",
    "\n",
    "\n",
    "#train / target data 나누기\n",
    "X = train_df\n"
   ]
  },
  {
   "cell_type": "markdown",
   "metadata": {},
   "source": [
    "결측치처리"
   ]
  },
  {
   "cell_type": "code",
   "execution_count": 10,
   "metadata": {},
   "outputs": [],
   "source": [
    "# 결측치 처리\n",
    "# 수치형 - KNN Imputer\n",
    "numerical_imputer = KNNImputer()\n",
    "X[numerical_cols] = numerical_imputer.fit_transform(X[numerical_cols])\n",
    "\n",
    "# 범주, 순서형 - 최빈\n",
    "categorical_imputer = SimpleImputer(strategy='most_frequent')\n",
    "X[categorical_cols + ordinal_cols] = categorical_imputer.fit_transform(X[categorical_cols + ordinal_cols])\n"
   ]
  },
  {
   "cell_type": "code",
   "execution_count": 12,
   "metadata": {},
   "outputs": [
    {
     "data": {
      "text/plain": [
       "Age                          0\n",
       "TypeofContact                0\n",
       "CityTier                     0\n",
       "DurationOfPitch              0\n",
       "Occupation                   0\n",
       "Gender                       0\n",
       "NumberOfPersonVisiting       0\n",
       "NumberOfFollowups            0\n",
       "ProductPitched               0\n",
       "PreferredPropertyStar        0\n",
       "NumberOfTrips                0\n",
       "Passport                     0\n",
       "PitchSatisfactionScore       0\n",
       "Designation                  0\n",
       "MonthlyIncome                0\n",
       "Marital_Status               0\n",
       "Car_Ownership                0\n",
       "Has_Children                 0\n",
       "ProdTaken                    0\n",
       "NumberOfFollowups_outlier    0\n",
       "Income_Category              0\n",
       "dtype: int64"
      ]
     },
     "execution_count": 12,
     "metadata": {},
     "output_type": "execute_result"
    }
   ],
   "source": [
    "X.isnull."
   ]
  },
  {
   "cell_type": "markdown",
   "metadata": {},
   "source": [
    "예측모델 함수 생성"
   ]
  },
  {
   "cell_type": "code",
   "execution_count": null,
   "metadata": {},
   "outputs": [],
   "source": [
    "target = 'id'\n",
    "IDcol = 'ProdTaken'"
   ]
  },
  {
   "cell_type": "code",
   "execution_count": null,
   "metadata": {},
   "outputs": [],
   "source": [
    "def modelfit(alg, dtrain, predictors,useTrainCV=True, cv_folds=5, early_stopping_rounds=50):\n",
    "    \n",
    "    if useTrainCV:\n",
    "        xgb_param = alg.get_xgb_params()\n",
    "        xgtrain = xgb.DMatrix(dtrain[predictors].values, label=dtrain[target].values)\n",
    "        cvresult = xgb.cv(xgb_param, xgtrain, num_boost_round=alg.get_params()['n_estimators'], nfold=cv_folds,\n",
    "            metrics='error', early_stopping_rounds=early_stopping_rounds)\n",
    "        alg.set_params(n_estimators=cvresult.shape[0])\n",
    "    \n",
    "    #Fit the algorithm on the data\n",
    "    alg.fit(dtrain[predictors], dtrain['ProdTaken'], eval_metric='error')\n",
    "        \n",
    "    #Predict training set:\n",
    "    dtrain_predictions = alg.predict(dtrain[predictors])\n",
    "    dtrain_predprob = alg.predict_proba(dtrain[predictors])[:,1]\n",
    "        \n",
    "    #Print model report:\n",
    "    print(\"\\nModel Report\")\n",
    "    print(\"Accuracy : %.4g\" % metrics.accuracy_score(dtrain['ProdTaken'].values, dtrain_predictions))"
   ]
  },
  {
   "cell_type": "markdown",
   "metadata": {},
   "source": [
    "하이퍼파라미터 튜닝 depth,weight"
   ]
  },
  {
   "cell_type": "code",
   "execution_count": null,
   "metadata": {},
   "outputs": [],
   "source": [
    "param_test1 = {\n",
    "    'max_depth': range(3, 10, 3),\n",
    "    'min_child_weight': range(1, 6, 2)\n",
    "}\n",
    "\n",
    "# StratifiedKFold 객체 생성\n",
    "skf = StratifiedKFold(n_splits=5, shuffle=True, random_state=42)\n",
    "\n",
    "# GridSearchCV 객체 생성\n",
    "gsearch1 = GridSearchCV(estimator=XGBClassifier(learning_rate=0.1, \n",
    "                                                  n_estimators=1000, \n",
    "                                                  max_depth=5, \n",
    "                                                  min_child_weight=1, \n",
    "                                                  gamma=0, \n",
    "                                                  subsample=0.8, \n",
    "                                                  colsample_bytree=0.8,\n",
    "                                                  objective='binary:logistic', \n",
    "                                                  scale_pos_weight=1, \n",
    "                                                  seed=2019),\n",
    "                        param_grid=param_test1, \n",
    "                        scoring='roc_auc',  # AUC를 계산할 때 'roc_auc' 사용\n",
    "                        n_jobs=-1, \n",
    "                        cv=skf, )\n",
    "\n",
    "# 모델 학습\n",
    "gsearch1.fit(X[predictors], X[target])\n",
    "\n",
    "# 결과 출력\n",
    "print(gsearch1.cv_results_)\n",
    "print(gsearch1.best_params_)\n",
    "print(gsearch1.best_score_)"
   ]
  }
 ],
 "metadata": {
  "kernelspec": {
   "display_name": "project",
   "language": "python",
   "name": "python3"
  },
  "language_info": {
   "codemirror_mode": {
    "name": "ipython",
    "version": 3
   },
   "file_extension": ".py",
   "mimetype": "text/x-python",
   "name": "python",
   "nbconvert_exporter": "python",
   "pygments_lexer": "ipython3",
   "version": "3.11.9"
  }
 },
 "nbformat": 4,
 "nbformat_minor": 2
}
