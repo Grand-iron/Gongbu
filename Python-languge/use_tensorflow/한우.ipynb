{
  "nbformat": 4,
  "nbformat_minor": 0,
  "metadata": {
    "colab": {
      "provenance": [],
      "gpuType": "T4"
    },
    "kernelspec": {
      "name": "python3",
      "display_name": "Python 3"
    },
    "language_info": {
      "name": "python"
    },
    "accelerator": "GPU"
  },
  "cells": [
    {
      "cell_type": "code",
      "execution_count": null,
      "metadata": {
        "id": "DMuZC-z7A7OZ"
      },
      "outputs": [],
      "source": [
        "import tensorflow as tf\n",
        "import matplotlib as mlt\n",
        "import seaborn as sys\n",
        "import pandas as pd\n",
        "import numpy as np"
      ]
    },
    {
      "cell_type": "code",
      "source": [
        "train=pd.read_csv('beef_train.csv')\n",
        "test=pd.read_csv('beef_test.csv')"
      ],
      "metadata": {
        "id": "yJOlr_6kCbRp"
      },
      "execution_count": null,
      "outputs": []
    },
    {
      "cell_type": "code",
      "source": [
        "train.info()"
      ],
      "metadata": {
        "colab": {
          "base_uri": "https://localhost:8080/"
        },
        "id": "Q0v8gU08Cf3W",
        "outputId": "8b4fa115-83b5-47aa-a52e-397f38dd5f89"
      },
      "execution_count": null,
      "outputs": [
        {
          "output_type": "stream",
          "name": "stdout",
          "text": [
            "<class 'pandas.core.frame.DataFrame'>\n",
            "RangeIndex: 13986 entries, 0 to 13985\n",
            "Data columns (total 14 columns):\n",
            " #   Column  Non-Null Count  Dtype  \n",
            "---  ------  --------------  -----  \n",
            " 0   일자      13986 non-null  object \n",
            " 1   번호      13986 non-null  int64  \n",
            " 2   출하주     13962 non-null  object \n",
            " 3   개체번호    13986 non-null  int64  \n",
            " 4   성별      13985 non-null  object \n",
            " 5   kpn     13977 non-null  float64\n",
            " 6   계대      13977 non-null  float64\n",
            " 7   중량      13986 non-null  int64  \n",
            " 8   최저가     13986 non-null  int64  \n",
            " 9   낙찰가     13986 non-null  int64  \n",
            " 10  상태      13986 non-null  object \n",
            " 11  비고      5407 non-null   object \n",
            " 12  종류      13986 non-null  object \n",
            " 13  지역      13986 non-null  object \n",
            "dtypes: float64(2), int64(5), object(7)\n",
            "memory usage: 1.5+ MB\n"
          ]
        }
      ]
    },
    {
      "cell_type": "code",
      "source": [
        "test.info()"
      ],
      "metadata": {
        "colab": {
          "base_uri": "https://localhost:8080/"
        },
        "id": "5R588BfVCgjK",
        "outputId": "55886797-15d6-4cef-ecf0-ddb15c4048b5"
      },
      "execution_count": null,
      "outputs": [
        {
          "output_type": "stream",
          "name": "stdout",
          "text": [
            "<class 'pandas.core.frame.DataFrame'>\n",
            "RangeIndex: 5995 entries, 0 to 5994\n",
            "Data columns (total 12 columns):\n",
            " #   Column  Non-Null Count  Dtype  \n",
            "---  ------  --------------  -----  \n",
            " 0   일자      5995 non-null   object \n",
            " 1   번호      5995 non-null   int64  \n",
            " 2   출하주     5985 non-null   object \n",
            " 3   개체번호    5995 non-null   object \n",
            " 4   성별      5995 non-null   object \n",
            " 5   kpn     5994 non-null   float64\n",
            " 6   계대      5994 non-null   float64\n",
            " 7   중량      5995 non-null   int64  \n",
            " 8   최저가     5995 non-null   int64  \n",
            " 9   비고      2255 non-null   object \n",
            " 10  종류      5995 non-null   object \n",
            " 11  지역      5995 non-null   object \n",
            "dtypes: float64(2), int64(3), object(7)\n",
            "memory usage: 562.2+ KB\n"
          ]
        }
      ]
    },
    {
      "cell_type": "code",
      "source": [],
      "metadata": {
        "id": "AYYAkXboDwQv"
      },
      "execution_count": null,
      "outputs": []
    }
  ]
}