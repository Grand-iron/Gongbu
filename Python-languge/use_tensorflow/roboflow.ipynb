{
  "cells": [
    {
      "cell_type": "code",
      "execution_count": 1,
      "metadata": {
        "colab": {
          "base_uri": "https://localhost:8080/"
        },
        "collapsed": true,
        "id": "7Dbk1mL1Yioh",
        "outputId": "a0dd2101-977b-43ff-a337-dd9184cd4c12"
      },
      "outputs": [
        {
          "name": "stdout",
          "output_type": "stream",
          "text": [
            "Collecting roboflow\n",
            "  Downloading roboflow-1.1.34-py3-none-any.whl (76 kB)\n",
            "\u001b[2K     \u001b[90m━━━━━━━━━━━━━━━━━━━━━━━━━━━━━━━━━━━━━━━━\u001b[0m \u001b[32m76.2/76.2 kB\u001b[0m \u001b[31m2.4 MB/s\u001b[0m eta \u001b[36m0:00:00\u001b[0m\n",
            "\u001b[?25hRequirement already satisfied: certifi in /usr/local/lib/python3.10/dist-packages (from roboflow) (2024.6.2)\n",
            "Collecting chardet==4.0.0 (from roboflow)\n",
            "  Downloading chardet-4.0.0-py2.py3-none-any.whl (178 kB)\n",
            "\u001b[2K     \u001b[90m━━━━━━━━━━━━━━━━━━━━━━━━━━━━━━━━━━━━━━━━\u001b[0m \u001b[32m178.7/178.7 kB\u001b[0m \u001b[31m8.3 MB/s\u001b[0m eta \u001b[36m0:00:00\u001b[0m\n",
            "\u001b[?25hRequirement already satisfied: idna==3.7 in /usr/local/lib/python3.10/dist-packages (from roboflow) (3.7)\n",
            "Requirement already satisfied: cycler in /usr/local/lib/python3.10/dist-packages (from roboflow) (0.12.1)\n",
            "Requirement already satisfied: kiwisolver>=1.3.1 in /usr/local/lib/python3.10/dist-packages (from roboflow) (1.4.5)\n",
            "Requirement already satisfied: matplotlib in /usr/local/lib/python3.10/dist-packages (from roboflow) (3.7.1)\n",
            "Requirement already satisfied: numpy>=1.18.5 in /usr/local/lib/python3.10/dist-packages (from roboflow) (1.25.2)\n",
            "Requirement already satisfied: opencv-python-headless==4.10.0.84 in /usr/local/lib/python3.10/dist-packages (from roboflow) (4.10.0.84)\n",
            "Requirement already satisfied: Pillow>=7.1.2 in /usr/local/lib/python3.10/dist-packages (from roboflow) (9.4.0)\n",
            "Requirement already satisfied: python-dateutil in /usr/local/lib/python3.10/dist-packages (from roboflow) (2.8.2)\n",
            "Collecting python-dotenv (from roboflow)\n",
            "  Downloading python_dotenv-1.0.1-py3-none-any.whl (19 kB)\n",
            "Requirement already satisfied: requests in /usr/local/lib/python3.10/dist-packages (from roboflow) (2.31.0)\n",
            "Requirement already satisfied: six in /usr/local/lib/python3.10/dist-packages (from roboflow) (1.16.0)\n",
            "Requirement already satisfied: urllib3>=1.26.6 in /usr/local/lib/python3.10/dist-packages (from roboflow) (2.0.7)\n",
            "Requirement already satisfied: tqdm>=4.41.0 in /usr/local/lib/python3.10/dist-packages (from roboflow) (4.66.4)\n",
            "Requirement already satisfied: PyYAML>=5.3.1 in /usr/local/lib/python3.10/dist-packages (from roboflow) (6.0.1)\n",
            "Collecting requests-toolbelt (from roboflow)\n",
            "  Downloading requests_toolbelt-1.0.0-py2.py3-none-any.whl (54 kB)\n",
            "\u001b[2K     \u001b[90m━━━━━━━━━━━━━━━━━━━━━━━━━━━━━━━━━━━━━━━━\u001b[0m \u001b[32m54.5/54.5 kB\u001b[0m \u001b[31m8.9 MB/s\u001b[0m eta \u001b[36m0:00:00\u001b[0m\n",
            "\u001b[?25hCollecting python-magic (from roboflow)\n",
            "  Downloading python_magic-0.4.27-py2.py3-none-any.whl (13 kB)\n",
            "Requirement already satisfied: contourpy>=1.0.1 in /usr/local/lib/python3.10/dist-packages (from matplotlib->roboflow) (1.2.1)\n",
            "Requirement already satisfied: fonttools>=4.22.0 in /usr/local/lib/python3.10/dist-packages (from matplotlib->roboflow) (4.53.0)\n",
            "Requirement already satisfied: packaging>=20.0 in /usr/local/lib/python3.10/dist-packages (from matplotlib->roboflow) (24.1)\n",
            "Requirement already satisfied: pyparsing>=2.3.1 in /usr/local/lib/python3.10/dist-packages (from matplotlib->roboflow) (3.1.2)\n",
            "Requirement already satisfied: charset-normalizer<4,>=2 in /usr/local/lib/python3.10/dist-packages (from requests->roboflow) (3.3.2)\n",
            "Installing collected packages: python-magic, python-dotenv, chardet, requests-toolbelt, roboflow\n",
            "  Attempting uninstall: chardet\n",
            "    Found existing installation: chardet 5.2.0\n",
            "    Uninstalling chardet-5.2.0:\n",
            "      Successfully uninstalled chardet-5.2.0\n",
            "Successfully installed chardet-4.0.0 python-dotenv-1.0.1 python-magic-0.4.27 requests-toolbelt-1.0.0 roboflow-1.1.34\n",
            "loading Roboflow workspace...\n",
            "loading Roboflow project...\n"
          ]
        },
        {
          "name": "stderr",
          "output_type": "stream",
          "text": [
            "Downloading Dataset Version Zip in Cigarette-Vape-Detection-14 to yolov9:: 100%|██████████| 559874/559874 [00:13<00:00, 42930.82it/s]"
          ]
        },
        {
          "name": "stdout",
          "output_type": "stream",
          "text": [
            "\n"
          ]
        },
        {
          "name": "stderr",
          "output_type": "stream",
          "text": [
            "\n",
            "Extracting Dataset Version Zip to Cigarette-Vape-Detection-14 in yolov9:: 100%|██████████| 27712/27712 [00:03<00:00, 7119.01it/s]\n"
          ]
        }
      ],
      "source": [
        "!pip install roboflow\n",
        "from roboflow import Roboflow\n",
        "rf = Roboflow(api_key=\"OE3Jg3u3F6BPO27NPQFe\")\n",
        "project = rf.workspace(\"takoyati\").project(\"cigarette-vape-detection\")\n",
        "version = project.version(14)\n",
        "dataset = version.download(\"yolov9\")"
      ]
    },
    {
      "cell_type": "code",
      "execution_count": 3,
      "metadata": {
        "id": "6PCLkdUOY1vs"
      },
      "outputs": [],
      "source": [
        "import numpy as np\n",
        "import os\n",
        "import PIL\n",
        "from PIL import Image\n",
        "import tensorflow as tf\n",
        "import pathlib\n",
        "import matplotlib.pyplot as plt\n",
        "from keras.preprocessing.image import ImageDataGenerator"
      ]
    },
    {
      "cell_type": "code",
      "execution_count": 2,
      "metadata": {
        "id": "EEa8eRhlZN7V"
      },
      "outputs": [],
      "source": [
        "import os\n",
        "import shutil\n",
        "\n",
        "# 경로 설정\n",
        "train_dir = '/content/Cigarette-Vape-Detection-14/train'\n",
        "labels_dir = os.path.join(train_dir, 'labels')\n",
        "images_dir = os.path.join(train_dir, 'images')\n",
        "vape_dir = os.path.join(train_dir, 'vape')\n",
        "cigarette_dir = os.path.join(train_dir, 'cigarette')\n",
        "\n",
        "# vape, cigarette 폴더 생성\n",
        "os.makedirs(vape_dir, exist_ok=True)\n",
        "os.makedirs(cigarette_dir, exist_ok=True)\n",
        "\n",
        "# 파일 이동\n",
        "for label_file in os.listdir(labels_dir):\n",
        "    with open(os.path.join(labels_dir, label_file), 'r') as f:\n",
        "        label = int(f.read().split()[0])\n",
        "        image_name = os.path.splitext(label_file)[0]\n",
        "        image_path = os.path.join(images_dir, image_name + '.jpg')\n",
        "\n",
        "        if label == 0:\n",
        "            dst_dir = vape_dir\n",
        "        else:\n",
        "            dst_dir = cigarette_dir\n",
        "\n",
        "        shutil.copy(image_path, os.path.join(dst_dir, image_name + '.jpg'))\n"
      ]
    },
    {
      "cell_type": "code",
      "execution_count": 4,
      "metadata": {
        "colab": {
          "base_uri": "https://localhost:8080/"
        },
        "id": "yXexHbBfeMaR",
        "outputId": "bec67ca5-cec8-4615-d51a-c06d0d211c2a"
      },
      "outputs": [
        {
          "name": "stdout",
          "output_type": "stream",
          "text": [
            "Found 12114 images belonging to 2 classes.\n"
          ]
        }
      ],
      "source": [
        "# ImageDataGenerator 설정\n",
        "data_generator = ImageDataGenerator(rescale=1./255)\n",
        "\n",
        "# train_generator 생성\n",
        "train_generator = data_generator.flow_from_directory(\n",
        "    '/content/Cigarette-Vape-Detection-14/train/rr',\n",
        "    target_size=(224, 224),\n",
        "    batch_size=4,\n",
        "    class_mode='categorical',\n",
        ")\n"
      ]
    },
    {
      "cell_type": "code",
      "execution_count": 7,
      "metadata": {
        "colab": {
          "base_uri": "https://localhost:8080/"
        },
        "id": "sG7PI4Rqm0P4",
        "outputId": "8bbde5f5-b756-4323-9925-366df04e9821"
      },
      "outputs": [
        {
          "name": "stdout",
          "output_type": "stream",
          "text": [
            "Downloading data from https://storage.googleapis.com/tensorflow/keras-applications/vgg19/vgg19_weights_tf_dim_ordering_tf_kernels_notop.h5\n",
            "80134624/80134624 [==============================] - 0s 0us/step\n",
            "Epoch 1/30\n",
            "3029/3029 [==============================] - 118s 39ms/step - loss: 0.2793 - accuracy: 0.9020\n",
            "Epoch 2/30\n",
            "3029/3029 [==============================] - 118s 39ms/step - loss: 0.0866 - accuracy: 0.9673\n",
            "Epoch 3/30\n",
            "3029/3029 [==============================] - 118s 39ms/step - loss: 0.0548 - accuracy: 0.9793\n",
            "Epoch 4/30\n",
            "3029/3029 [==============================] - 118s 39ms/step - loss: 0.0284 - accuracy: 0.9898\n",
            "Epoch 5/30\n",
            "3029/3029 [==============================] - 118s 39ms/step - loss: 0.0274 - accuracy: 0.9895\n",
            "Epoch 6/30\n",
            "3029/3029 [==============================] - 118s 39ms/step - loss: 0.0193 - accuracy: 0.9938\n",
            "Epoch 7/30\n",
            "3029/3029 [==============================] - 118s 39ms/step - loss: 0.0178 - accuracy: 0.9946\n",
            "Epoch 8/30\n",
            "3029/3029 [==============================] - 118s 39ms/step - loss: 0.0182 - accuracy: 0.9940\n",
            "Epoch 9/30\n",
            "3029/3029 [==============================] - 118s 39ms/step - loss: 0.0131 - accuracy: 0.9949\n",
            "Epoch 10/30\n",
            "3029/3029 [==============================] - 118s 39ms/step - loss: 0.0098 - accuracy: 0.9974\n",
            "Epoch 11/30\n",
            "3029/3029 [==============================] - 118s 39ms/step - loss: 0.0141 - accuracy: 0.9969\n",
            "Epoch 12/30\n",
            "3029/3029 [==============================] - 118s 39ms/step - loss: 0.0073 - accuracy: 0.9980\n",
            "Epoch 13/30\n",
            "3029/3029 [==============================] - 118s 39ms/step - loss: 0.0074 - accuracy: 0.9979\n",
            "Epoch 14/30\n",
            "3029/3029 [==============================] - 118s 39ms/step - loss: 0.0087 - accuracy: 0.9972\n",
            "Epoch 15/30\n",
            "3029/3029 [==============================] - 118s 39ms/step - loss: 0.0112 - accuracy: 0.9973\n",
            "Epoch 16/30\n",
            "3029/3029 [==============================] - 118s 39ms/step - loss: 0.0090 - accuracy: 0.9968\n",
            "Epoch 17/30\n",
            "3029/3029 [==============================] - 118s 39ms/step - loss: 8.4757e-04 - accuracy: 0.9998\n",
            "Epoch 18/30\n",
            "3029/3029 [==============================] - 118s 39ms/step - loss: 0.0098 - accuracy: 0.9978\n",
            "Epoch 19/30\n",
            "3029/3029 [==============================] - 118s 39ms/step - loss: 0.0107 - accuracy: 0.9960\n",
            "Epoch 20/30\n",
            "3029/3029 [==============================] - 118s 39ms/step - loss: 0.0107 - accuracy: 0.9964\n",
            "Epoch 21/30\n",
            "3029/3029 [==============================] - 118s 39ms/step - loss: 0.0059 - accuracy: 0.9982\n",
            "Epoch 22/30\n",
            "3029/3029 [==============================] - 118s 39ms/step - loss: 0.0068 - accuracy: 0.9980\n",
            "Epoch 23/30\n",
            "3029/3029 [==============================] - 118s 39ms/step - loss: 0.0100 - accuracy: 0.9971\n",
            "Epoch 24/30\n",
            "3029/3029 [==============================] - 118s 39ms/step - loss: 0.0085 - accuracy: 0.9983\n",
            "Epoch 25/30\n",
            "3029/3029 [==============================] - 118s 39ms/step - loss: 0.0118 - accuracy: 0.9972\n",
            "Epoch 26/30\n",
            "3029/3029 [==============================] - 118s 39ms/step - loss: 3.1697e-04 - accuracy: 0.9998\n",
            "Epoch 27/30\n",
            "3029/3029 [==============================] - 117s 39ms/step - loss: 0.0095 - accuracy: 0.9986\n",
            "Epoch 28/30\n",
            "3029/3029 [==============================] - 117s 39ms/step - loss: 0.0047 - accuracy: 0.9983\n",
            "Epoch 29/30\n",
            "3029/3029 [==============================] - 117s 39ms/step - loss: 0.0040 - accuracy: 0.9988\n",
            "Epoch 30/30\n",
            "3029/3029 [==============================] - 117s 39ms/step - loss: 0.0048 - accuracy: 0.9980\n"
          ]
        },
        {
          "data": {
            "text/plain": [
              "<keras.src.callbacks.History at 0x79f4a0e972e0>"
            ]
          },
          "execution_count": 7,
          "metadata": {},
          "output_type": "execute_result"
        }
      ],
      "source": [
        "base_model = tf.keras.applications.VGG19(weights='imagenet', include_top=False, input_shape=(224, 224, 3))\n",
        "\n",
        "# 새로운 레이어 추가\n",
        "x = base_model.output\n",
        "x = tf.keras.layers.Flatten()(x)\n",
        "x = tf.keras.layers.Dense(512, activation='relu')(x)\n",
        "predictions = tf.keras.layers.Dense(2, activation='softmax')(x)\n",
        "vgg_model = tf.keras.models.Model(inputs=base_model.input, outputs=predictions)\n",
        "\n",
        "# 이전 레이어들의 학습을 동결\n",
        "for layer in base_model.layers:\n",
        "    layer.trainable = False\n",
        "\n",
        "vgg_model.compile(loss='categorical_crossentropy', optimizer='adam', metrics=['accuracy'])\n",
        "vgg_model.fit(train_generator, epochs=30, batch_size=16)"
      ]
    }
  ],
  "metadata": {
    "accelerator": "GPU",
    "colab": {
      "gpuType": "T4",
      "machine_shape": "hm",
      "provenance": []
    },
    "kernelspec": {
      "display_name": "Python 3",
      "name": "python3"
    },
    "language_info": {
      "name": "python"
    }
  },
  "nbformat": 4,
  "nbformat_minor": 0
}
