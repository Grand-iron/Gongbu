{
  "cells": [
    {
      "cell_type": "code",
      "execution_count": 12,
      "metadata": {
        "id": "DzITvuOhHk0p"
      },
      "outputs": [],
      "source": [
        "import numpy as np\n",
        "import os\n",
        "import PIL\n",
        "import PIL.Image\n",
        "import tensorflow as tf\n",
        "import tensorflow_datasets as tfds\n",
        "import pathlib\n",
        "import matplotlib.pyplot as plt\n",
        "from keras.preprocessing import image\n",
        "from keras.preprocessing.image import ImageDataGenerator"
      ]
    },
    {
      "cell_type": "code",
      "execution_count": 13,
      "metadata": {
        "id": "1jQUoJaXLXFp"
      },
      "outputs": [],
      "source": [
        "data_generator = ImageDataGenerator(rescale=1./255)"
      ]
    },
    {
      "cell_type": "code",
      "execution_count": 14,
      "metadata": {
        "colab": {
          "base_uri": "https://localhost:8080/"
        },
        "id": "WgLaJi18RcTo",
        "outputId": "77c0332b-d520-44b7-87b2-01e70591d1ed"
      },
      "outputs": [
        {
          "name": "stdout",
          "output_type": "stream",
          "text": [
            "Found 168 images belonging to 2 classes.\n"
          ]
        }
      ],
      "source": [
        "train_generator = data_generator.flow_from_directory(\n",
        "    '/content/gogo',\n",
        "    target_size=(150, 150),\n",
        "    batch_size=3,\n",
        "    class_mode='categorical')"
      ]
    },
    {
      "cell_type": "code",
      "execution_count": 15,
      "metadata": {
        "id": "k5b-olVsT2wA"
      },
      "outputs": [],
      "source": [
        "x_train, y_train = train_generator.next()"
      ]
    },
    {
      "cell_type": "code",
      "execution_count": 22,
      "metadata": {
        "colab": {
          "base_uri": "https://localhost:8080/"
        },
        "id": "5KrlKbDqT9CF",
        "outputId": "7357acb4-912c-4eb2-86d4-242a04855e47"
      },
      "outputs": [
        {
          "data": {
            "text/plain": [
              "array([[0., 1.],\n",
              "       [0., 1.],\n",
              "       [0., 1.]], dtype=float32)"
            ]
          },
          "execution_count": 22,
          "metadata": {},
          "output_type": "execute_result"
        }
      ],
      "source": [
        "y_train"
      ]
    },
    {
      "cell_type": "code",
      "execution_count": 24,
      "metadata": {
        "colab": {
          "base_uri": "https://localhost:8080/"
        },
        "id": "A0CnYgq6T_Uj",
        "outputId": "245fb31c-b585-4908-a81d-58a11c55843c"
      },
      "outputs": [
        {
          "data": {
            "text/plain": [
              "(150, 150, 3)"
            ]
          },
          "execution_count": 24,
          "metadata": {},
          "output_type": "execute_result"
        }
      ],
      "source": [
        "x_train[0].shape"
      ]
    },
    {
      "cell_type": "code",
      "execution_count": 34,
      "metadata": {
        "colab": {
          "base_uri": "https://localhost:8080/"
        },
        "id": "USRJtnLmZOWF",
        "outputId": "b908029c-04e3-460f-c1f8-13bf546f2a3c"
      },
      "outputs": [
        {
          "name": "stdout",
          "output_type": "stream",
          "text": [
            "Model: \"sequential_4\"\n",
            "_________________________________________________________________\n",
            " Layer (type)                Output Shape              Param #   \n",
            "=================================================================\n",
            " flatten (Flatten)           (None, 67500)             0         \n",
            "                                                                 \n",
            " dense_18 (Dense)            (None, 5000)              337505000 \n",
            "                                                                 \n",
            " dense_19 (Dense)            (None, 3000)              15003000  \n",
            "                                                                 \n",
            " dense_20 (Dense)            (None, 1000)              3001000   \n",
            "                                                                 \n",
            " dense_21 (Dense)            (None, 500)               500500    \n",
            "                                                                 \n",
            " dense_22 (Dense)            (None, 100)               50100     \n",
            "                                                                 \n",
            " dense_23 (Dense)            (None, 2)                 202       \n",
            "                                                                 \n",
            "=================================================================\n",
            "Total params: 356059802 (1.33 GB)\n",
            "Trainable params: 356059802 (1.33 GB)\n",
            "Non-trainable params: 0 (0.00 Byte)\n",
            "_________________________________________________________________\n",
            "Epoch 1/30\n",
            "1/1 [==============================] - 3s 3s/step - loss: 0.9501 - accuracy: 0.0000e+00\n",
            "Epoch 2/30\n",
            "1/1 [==============================] - 0s 99ms/step - loss: 0.0000e+00 - accuracy: 1.0000\n",
            "Epoch 3/30\n",
            "1/1 [==============================] - 0s 96ms/step - loss: 0.0000e+00 - accuracy: 1.0000\n",
            "Epoch 4/30\n",
            "1/1 [==============================] - 0s 92ms/step - loss: 0.0000e+00 - accuracy: 1.0000\n",
            "Epoch 5/30\n",
            "1/1 [==============================] - 0s 91ms/step - loss: 0.0000e+00 - accuracy: 1.0000\n",
            "Epoch 6/30\n",
            "1/1 [==============================] - 0s 91ms/step - loss: 0.0000e+00 - accuracy: 1.0000\n",
            "Epoch 7/30\n",
            "1/1 [==============================] - 0s 93ms/step - loss: 0.0000e+00 - accuracy: 1.0000\n",
            "Epoch 8/30\n",
            "1/1 [==============================] - 0s 93ms/step - loss: 0.0000e+00 - accuracy: 1.0000\n",
            "Epoch 9/30\n",
            "1/1 [==============================] - 0s 94ms/step - loss: 0.0000e+00 - accuracy: 1.0000\n",
            "Epoch 10/30\n",
            "1/1 [==============================] - 0s 95ms/step - loss: 0.0000e+00 - accuracy: 1.0000\n",
            "Epoch 11/30\n",
            "1/1 [==============================] - 0s 96ms/step - loss: 0.0000e+00 - accuracy: 1.0000\n",
            "Epoch 12/30\n",
            "1/1 [==============================] - 0s 96ms/step - loss: 0.0000e+00 - accuracy: 1.0000\n",
            "Epoch 13/30\n",
            "1/1 [==============================] - 0s 97ms/step - loss: 0.0000e+00 - accuracy: 1.0000\n",
            "Epoch 14/30\n",
            "1/1 [==============================] - 0s 93ms/step - loss: 0.0000e+00 - accuracy: 1.0000\n",
            "Epoch 15/30\n",
            "1/1 [==============================] - 0s 94ms/step - loss: 0.0000e+00 - accuracy: 1.0000\n",
            "Epoch 16/30\n",
            "1/1 [==============================] - 0s 92ms/step - loss: 0.0000e+00 - accuracy: 1.0000\n",
            "Epoch 17/30\n",
            "1/1 [==============================] - 0s 91ms/step - loss: 0.0000e+00 - accuracy: 1.0000\n",
            "Epoch 18/30\n",
            "1/1 [==============================] - 0s 92ms/step - loss: 0.0000e+00 - accuracy: 1.0000\n",
            "Epoch 19/30\n",
            "1/1 [==============================] - 0s 91ms/step - loss: 0.0000e+00 - accuracy: 1.0000\n",
            "Epoch 20/30\n",
            "1/1 [==============================] - 0s 95ms/step - loss: 0.0000e+00 - accuracy: 1.0000\n",
            "Epoch 21/30\n",
            "1/1 [==============================] - 0s 93ms/step - loss: 0.0000e+00 - accuracy: 1.0000\n",
            "Epoch 22/30\n",
            "1/1 [==============================] - 0s 92ms/step - loss: 0.0000e+00 - accuracy: 1.0000\n",
            "Epoch 23/30\n",
            "1/1 [==============================] - 0s 93ms/step - loss: 0.0000e+00 - accuracy: 1.0000\n",
            "Epoch 24/30\n",
            "1/1 [==============================] - 0s 92ms/step - loss: 0.0000e+00 - accuracy: 1.0000\n",
            "Epoch 25/30\n",
            "1/1 [==============================] - 0s 93ms/step - loss: 0.0000e+00 - accuracy: 1.0000\n",
            "Epoch 26/30\n",
            "1/1 [==============================] - 0s 94ms/step - loss: 0.0000e+00 - accuracy: 1.0000\n",
            "Epoch 27/30\n",
            "1/1 [==============================] - 0s 97ms/step - loss: 0.0000e+00 - accuracy: 1.0000\n",
            "Epoch 28/30\n",
            "1/1 [==============================] - 0s 97ms/step - loss: 0.0000e+00 - accuracy: 1.0000\n",
            "Epoch 29/30\n",
            "1/1 [==============================] - 0s 98ms/step - loss: 0.0000e+00 - accuracy: 1.0000\n",
            "Epoch 30/30\n",
            "1/1 [==============================] - 0s 95ms/step - loss: 0.0000e+00 - accuracy: 1.0000\n"
          ]
        }
      ],
      "source": [
        "model = tf.keras.models.Sequential()\n",
        "model.add(tf.keras.layers.Flatten(input_shape=(150, 150, 3)))\n",
        "model.add(tf.keras.layers.Dense(5000, activation='relu'))\n",
        "model.add(tf.keras.layers.Dense(3000, activation='relu'))\n",
        "model.add(tf.keras.layers.Dense(1000, activation='relu'))\n",
        "model.add(tf.keras.layers.Dense(500, activation='relu'))\n",
        "model.add(tf.keras.layers.Dense(100, activation='relu'))\n",
        "model.add(tf.keras.layers.Dense(2, activation='softmax'))\n",
        "model.summary()\n",
        "model.compile(loss='categorical_crossentropy', optimizer='adam', metrics=['accuracy'])\n",
        "history = model.fit(x_train, y_train, epochs=30, batch_size=10)\n"
      ]
    },
    {
      "cell_type": "code",
      "execution_count": 40,
      "metadata": {
        "colab": {
          "base_uri": "https://localhost:8080/"
        },
        "id": "5bOW4dqrZzgY",
        "outputId": "72768c6d-dfab-4794-d6f4-892f8d0e0b70"
      },
      "outputs": [
        {
          "name": "stdout",
          "output_type": "stream",
          "text": [
            "1/1 [==============================] - 0s 18ms/step\n",
            "[[0. 1.]]\n"
          ]
        }
      ],
      "source": [
        "from keras.preprocessing import image\n",
        "\n",
        "# 새로운 이미지 불러오기\n",
        "new_image = image.load_img('/content/i16102976907.jpg', target_size=(150, 150))\n",
        "\n",
        "# 이미지를 numpy 배열로 변환\n",
        "new_image_array = image.img_to_array(new_image)\n",
        "\n",
        "# 배치 차원 추가\n",
        "new_image_array = np.expand_dims(new_image_array, axis=0)\n",
        "\n",
        "# 모델 예측\n",
        "predictions = model.predict(new_image_array)\n",
        "\n",
        "# 예측 결과 확인\n",
        "print(predictions)"
      ]
    },
    {
      "cell_type": "code",
      "execution_count": null,
      "metadata": {
        "id": "1H7s8EGJaEqR"
      },
      "outputs": [],
      "source": []
    }
  ],
  "metadata": {
    "accelerator": "GPU",
    "colab": {
      "gpuType": "T4",
      "provenance": []
    },
    "kernelspec": {
      "display_name": "Python 3",
      "name": "python3"
    },
    "language_info": {
      "name": "python"
    }
  },
  "nbformat": 4,
  "nbformat_minor": 0
}
